{
 "cells": [
  {
   "cell_type": "code",
   "execution_count": 1,
   "id": "afb14b9e",
   "metadata": {},
   "outputs": [],
   "source": [
    "import pandas as pd\n",
    "import numpy as np"
   ]
  },
  {
   "cell_type": "code",
   "execution_count": 3,
   "id": "417fe21e",
   "metadata": {},
   "outputs": [],
   "source": [
    "from numpy import linalg"
   ]
  },
  {
   "cell_type": "code",
   "execution_count": 4,
   "id": "43b6e087",
   "metadata": {},
   "outputs": [],
   "source": [
    "arr1 = np.array([[5,4,-6],[7,1,9],[2,3,8]])"
   ]
  },
  {
   "cell_type": "code",
   "execution_count": 10,
   "id": "75d23a03",
   "metadata": {},
   "outputs": [
    {
     "data": {
      "text/plain": [
       "np.float64(-360.99999999999983)"
      ]
     },
     "execution_count": 10,
     "metadata": {},
     "output_type": "execute_result"
    }
   ],
   "source": [
    "linalg.det(arr1)"
   ]
  },
  {
   "cell_type": "code",
   "execution_count": 9,
   "id": "5e9fac62",
   "metadata": {},
   "outputs": [
    {
     "data": {
      "text/plain": [
       "-529"
      ]
     },
     "execution_count": 9,
     "metadata": {},
     "output_type": "execute_result"
    }
   ],
   "source": [
    "5*(8-27)-7*(32+18)+2*(-6-36)"
   ]
  },
  {
   "cell_type": "code",
   "execution_count": null,
   "id": "deb3aef4",
   "metadata": {},
   "outputs": [],
   "source": []
  }
 ],
 "metadata": {
  "kernelspec": {
   "display_name": "lost",
   "language": "python",
   "name": "python3"
  },
  "language_info": {
   "codemirror_mode": {
    "name": "ipython",
    "version": 3
   },
   "file_extension": ".py",
   "mimetype": "text/x-python",
   "name": "python",
   "nbconvert_exporter": "python",
   "pygments_lexer": "ipython3",
   "version": "3.12.8"
  }
 },
 "nbformat": 4,
 "nbformat_minor": 5
}
