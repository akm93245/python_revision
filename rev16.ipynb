{
 "cells": [
  {
   "cell_type": "markdown",
   "id": "14ea6f9d",
   "metadata": {},
   "source": [
    "<h1 align='center' style=\"background:lightblue ; color:black\">Day 16 : Learning about Machine Learning</h1>"
   ]
  },
  {
   "cell_type": "markdown",
   "id": "6690a0cc",
   "metadata": {},
   "source": [
    "Machine leaning is the sub branch of Artificial Intelligence that focuses on the development of algorithms and statistical methods that enables computers to perform tasks without explicit intruction, Instead being programmed to complete a speciefic task,"
   ]
  }
 ],
 "metadata": {
  "kernelspec": {
   "display_name": "lost",
   "language": "python",
   "name": "python3"
  },
  "language_info": {
   "name": "python",
   "version": "3.12.8"
  }
 },
 "nbformat": 4,
 "nbformat_minor": 5
}
